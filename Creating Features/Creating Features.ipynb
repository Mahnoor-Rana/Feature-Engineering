{
 "cells": [
  {
   "cell_type": "markdown",
   "id": "820c548c",
   "metadata": {},
   "source": [
    "## Importing libraries"
   ]
  },
  {
   "cell_type": "code",
   "execution_count": 3,
   "id": "c2118ae0",
   "metadata": {},
   "outputs": [],
   "source": [
    "import numpy as np\n",
    "import pandas as pd\n",
    "from sklearn.model_selection import cross_val_score\n",
    "from xgboost import XGBRegressor\n",
    "\n",
    "\n",
    "def score_dataset(X, y, model=XGBRegressor()):\n",
    "    # Label encoding for categoricals\n",
    "    for colname in X.select_dtypes([\"category\", \"object\"]):\n",
    "        X[colname], _ = X[colname].factorize()\n",
    "    # Metric for Housing competition is RMSLE (Root Mean Squared Log Error)\n",
    "    score = cross_val_score(\n",
    "        model, X, y, cv=5, scoring=\"neg_mean_squared_log_error\",\n",
    "    )\n",
    "    score = -1 * score.mean()\n",
    "    score = np.sqrt(score)\n",
    "    return score\n",
    "\n"
   ]
  },
  {
   "cell_type": "markdown",
   "id": "8eba0b40",
   "metadata": {},
   "source": [
    "## Preparation of Data"
   ]
  },
  {
   "cell_type": "code",
   "execution_count": 4,
   "id": "ca478c7d",
   "metadata": {},
   "outputs": [],
   "source": [
    "# Prepare data\n",
    "df = pd.read_csv(\"ames.csv\")\n",
    "X = df.copy()\n",
    "y = X.pop(\"SalePrice\")"
   ]
  },
  {
   "cell_type": "markdown",
   "id": "d7beb5c5",
   "metadata": {},
   "source": [
    "## 1) Create Mathematical Transforms\n",
    "Create the following features:\n",
    "\n",
    "LivLotRatio: the ratio of GrLivArea to LotArea\n",
    "Spaciousness: the sum of FirstFlrSF and SecondFlrSF divided by TotRmsAbvGrd\n",
    "TotalOutsideSF: the sum of WoodDeckSF, OpenPorchSF, EnclosedPorch, Threeseasonporch, and ScreenPorch"
   ]
  },
  {
   "cell_type": "code",
   "execution_count": 5,
   "id": "5c880208",
   "metadata": {},
   "outputs": [],
   "source": [
    "X_1 = pd.DataFrame()  # dataframe to hold new features\n",
    "\n",
    "X_1[\"LivLotRatio\"] = df.GrLivArea /df.LotArea\n",
    "X_1[\"Spaciousness\"] = (df.FirstFlrSF + df.SecondFlrSF)/df.TotRmsAbvGrd\n",
    "X_1[\"TotalOutsideSF\"] = df.WoodDeckSF + df.OpenPorchSF + df.EnclosedPorch + df.Threeseasonporch + df.ScreenPorch"
   ]
  },
  {
   "cell_type": "raw",
   "id": "c0c2d331",
   "metadata": {},
   "source": [
    "If you've discovered an interaction effect between a numeric feature and a categorical feature, you might want to model it explicitly using a one-hot encoding, like so:\n",
    "\n",
    "# One-hot encode Categorical feature, adding a column prefix \"Cat\"\n",
    "X_new = pd.get_dummies(df.Categorical, prefix=\"Cat\")\n",
    "\n",
    "# Multiply row-by-row\n",
    "X_new = X_new.mul(df.Continuous, axis=0)\n",
    "\n",
    "# Join the new features to the feature set\n",
    "X = X.join(X_new)\n"
   ]
  },
  {
   "cell_type": "markdown",
   "id": "dc25081c",
   "metadata": {},
   "source": [
    "## 2) Interaction with a Categorical\n",
    "We discovered an interaction between BldgType and GrLivArea in Exercise 2. Now create their interaction features."
   ]
  },
  {
   "cell_type": "code",
   "execution_count": 6,
   "id": "05c1a864",
   "metadata": {},
   "outputs": [],
   "source": [
    "# One-hot encode BldgType. Use `prefix=\"Bldg\"` in `get_dummies`\n",
    "X_2 = pd.get_dummies(df.BldgType, prefix=\"Bldg\")\n",
    "X_2 = X_2.mul(df.GrLivArea, axis=0)\n"
   ]
  },
  {
   "cell_type": "markdown",
   "id": "205a0c67",
   "metadata": {},
   "source": [
    "## 3) Count Feature\n",
    "Let's try creating a feature that describes how many kinds of outdoor areas a dwelling has. Create a feature PorchTypes that counts how many of the following are greater than 0.0:\n",
    "\n",
    "- WoodDeckSF\n",
    "- OpenPorchSF\n",
    "- EnclosedPorch\n",
    "- Threeseasonporch\n",
    "- ScreenPorch"
   ]
  },
  {
   "cell_type": "code",
   "execution_count": 7,
   "id": "7b0529c9",
   "metadata": {},
   "outputs": [],
   "source": [
    "X_3 = pd.DataFrame()\n",
    "\n",
    "X_3[\"PorchTypes\"] = df[[\n",
    "    \"WoodDeckSF\",\n",
    "    \"OpenPorchSF\",\n",
    "    \"EnclosedPorch\",\n",
    "    \"Threeseasonporch\",\n",
    "    \"ScreenPorch\",\n",
    "]].gt(0.0).sum(axis=1)\n"
   ]
  },
  {
   "cell_type": "markdown",
   "id": "f16f5ed2",
   "metadata": {},
   "source": [
    "## 4) Break Down a Categorical Feature\n",
    "MSSubClass describes the type of a dwelling:"
   ]
  },
  {
   "cell_type": "code",
   "execution_count": 9,
   "id": "02a3bf0a",
   "metadata": {},
   "outputs": [
    {
     "data": {
      "text/plain": [
       "array(['One_Story_1946_and_Newer_All_Styles', 'Two_Story_1946_and_Newer',\n",
       "       'One_Story_PUD_1946_and_Newer',\n",
       "       'One_and_Half_Story_Finished_All_Ages', 'Split_Foyer',\n",
       "       'Two_Story_PUD_1946_and_Newer', 'Split_or_Multilevel',\n",
       "       'One_Story_1945_and_Older', 'Duplex_All_Styles_and_Ages',\n",
       "       'Two_Family_conversion_All_Styles_and_Ages',\n",
       "       'One_and_Half_Story_Unfinished_All_Ages',\n",
       "       'Two_Story_1945_and_Older', 'Two_and_Half_Story_All_Ages',\n",
       "       'One_Story_with_Finished_Attic_All_Ages',\n",
       "       'PUD_Multilevel_Split_Level_Foyer',\n",
       "       'One_and_Half_Story_PUD_All_Ages'], dtype=object)"
      ]
     },
     "execution_count": 9,
     "metadata": {},
     "output_type": "execute_result"
    }
   ],
   "source": [
    "df.MSSubClass.unique()"
   ]
  },
  {
   "cell_type": "code",
   "execution_count": 12,
   "id": "ba69ef0c",
   "metadata": {},
   "outputs": [
    {
     "data": {
      "text/plain": [
       "0         One\n",
       "1         One\n",
       "2         One\n",
       "3         One\n",
       "4         Two\n",
       "        ...  \n",
       "2925    Split\n",
       "2926      One\n",
       "2927    Split\n",
       "2928      One\n",
       "2929      Two\n",
       "Name: MSClass, Length: 2930, dtype: object"
      ]
     },
     "execution_count": 12,
     "metadata": {},
     "output_type": "execute_result"
    }
   ],
   "source": [
    "X_4 = pd.DataFrame()\n",
    "X_4['MSClass'] = df.MSSubClass.str.split(\"_\",n=1, expand = True)[0]\n",
    "X_4['MSClass']"
   ]
  },
  {
   "cell_type": "markdown",
   "id": "9100d887",
   "metadata": {},
   "source": [
    "##  5) Use a Grouped Transform\n",
    "​\n",
    "The value of a home often depends on how it compares to typical homes in its neighborhood. Create a feature `MedNhbdArea` that describes the *median* of `GrLivArea` grouped on `Neighborhood`."
   ]
  },
  {
   "cell_type": "code",
   "execution_count": 14,
   "id": "8f37ff03",
   "metadata": {},
   "outputs": [
    {
     "data": {
      "text/plain": [
       "0       1200.0\n",
       "1       1200.0\n",
       "2       1200.0\n",
       "3       1200.0\n",
       "4       1560.0\n",
       "         ...  \n",
       "2925    1282.0\n",
       "2926    1282.0\n",
       "2927    1282.0\n",
       "2928    1282.0\n",
       "2929    1282.0\n",
       "Name: MedNhbdArea, Length: 2930, dtype: float64"
      ]
     },
     "execution_count": 14,
     "metadata": {},
     "output_type": "execute_result"
    }
   ],
   "source": [
    "X_5 = pd.DataFrame()\n",
    "\n",
    "X_5[\"MedNhbdArea\"] = df.groupby(\"Neighborhood\")[\"GrLivArea\"].transform(\"median\")\n",
    "X_5[\"MedNhbdArea\"] "
   ]
  }
 ],
 "metadata": {
  "kernelspec": {
   "display_name": "Python 3 (ipykernel)",
   "language": "python",
   "name": "python3"
  },
  "language_info": {
   "codemirror_mode": {
    "name": "ipython",
    "version": 3
   },
   "file_extension": ".py",
   "mimetype": "text/x-python",
   "name": "python",
   "nbconvert_exporter": "python",
   "pygments_lexer": "ipython3",
   "version": "3.9.12"
  }
 },
 "nbformat": 4,
 "nbformat_minor": 5
}
